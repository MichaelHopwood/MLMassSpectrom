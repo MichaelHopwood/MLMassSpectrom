{
 "cells": [
  {
   "cell_type": "code",
   "execution_count": 1,
   "id": "f2f4fd46",
   "metadata": {},
   "outputs": [],
   "source": [
    "import numpy as np\n",
    "import matplotlib.pyplot as plt"
   ]
  },
  {
   "cell_type": "code",
   "execution_count": 2,
   "id": "4f283852",
   "metadata": {},
   "outputs": [
    {
     "data": {
      "image/png": "[encoded data removed]",
      "text/plain": [
       "<Figure size 432x288 with 1 Axes>"
      ]
     },
     "metadata": {
      "needs_background": "light"
     },
     "output_type": "display_data"
    },
    {
     "data": {
      "image/png": "[encoded data removed]",
      "text/plain": [
       "<Figure size 432x288 with 1 Axes>"
      ]
     },
     "metadata": {
      "needs_background": "light"
     },
     "output_type": "display_data"
    }
   ],
   "source": [
    "\"\"\"Generate number of nonzero features\"\"\"\n",
    "\n",
    "def generate_num_nonzero(num_samples, lognorm_mean=3, lognorm_sigm=1):\n",
    "    # Select number of nonzero terms in spectroscopy sample\n",
    "    return np.random.lognormal(lognorm_mean, lognorm_sigm, num_samples).astype(int)\n",
    "\n",
    "s = generate_num_nonzero(10000)\n",
    "count, bins, ignored = plt.hist(s, 200, density=True, align='mid')\n",
    "plt.title(\"Number of non-zero components\")\n",
    "plt.show()\n",
    "\n",
    "\"\"\"Generate Mass Samples\"\"\"\n",
    "\n",
    "def generate_mass_samples(num_nonzero, num_samples,\n",
    "                          low=0, high=300, mass_std=0.001,\n",
    "                          intensity_spread_factor=1.0, intensity_std=0.01):\n",
    "    # Generate the location of the num_nonzero components\n",
    "    #intensity_locs = np.random.dirichlet(np.ones(num_nonzero)*float(intensity_spread_factor))\n",
    "    counts = np.random.uniform(0, 1, num_nonzero)\n",
    "    intensity_locs = counts / counts.sum()\n",
    "    \n",
    "    #print(\"intensity means:\", intensity_locs)\n",
    "    samples = []\n",
    "    for i in range(num_nonzero):\n",
    "        loc = np.random.uniform(low, high)\n",
    "        mass_samples = np.random.normal(loc, mass_std, num_samples)\n",
    "        intensity_samples = np.random.normal(intensity_locs[i], intensity_std, num_samples)\n",
    "        samples.append(np.column_stack((mass_samples, intensity_samples)))\n",
    "    samples = np.array(samples)\n",
    "    #return np.hstack(samples)\n",
    "    samples[samples < 0] = 0\n",
    "    return samples\n",
    "\n",
    "samples = generate_mass_samples(3, 4)\n",
    "\n",
    "for sample in samples:\n",
    "    mass, intensity = sample[:,0], sample[:,1]\n",
    "    plt.bar(mass, intensity)\n",
    "plt.show()"
   ]
  },
  {
   "cell_type": "code",
   "execution_count": 3,
   "id": "7b798f69",
   "metadata": {},
   "outputs": [],
   "source": [
    "# Random number of samples from 0-300\n",
    "bounds = (0,300)\n",
    "n_samples_per_compound = 10"
   ]
  },
  {
   "cell_type": "code",
   "execution_count": 4,
   "id": "fa8c57d9",
   "metadata": {},
   "outputs": [],
   "source": [
    "def generate_sample_group(num_samples, lognorm_mean=3, lognorm_sigm=1,\n",
    "                         low=0, high=300, mass_std=0.001,\n",
    "                         intensity_spread_factor=1.0, intensity_std=0.01):\n",
    "    num_nonzero = generate_num_nonzero(1, lognorm_mean=3, lognorm_sigm=1)[0]\n",
    "    samples = generate_mass_samples(num_nonzero, num_samples,\n",
    "                              low=low, high=high, mass_std=mass_std,\n",
    "                              intensity_spread_factor=intensity_spread_factor, intensity_std=intensity_std)\n",
    "    return samples\n",
    "\n",
    "def visualize_samples(samples):\n",
    "    for sample in samples:\n",
    "        mass, intensity = sample[:,0], sample[:,1]\n",
    "        plt.bar(mass, intensity)\n",
    "    plt.show()\n"
   ]
  },
  {
   "cell_type": "code",
   "execution_count": 5,
   "id": "263607c2",
   "metadata": {},
   "outputs": [
    {
     "data": {
      "image/png": "[encoded data removed]",
      "text/plain": [
       "<Figure size 432x288 with 1 Axes>"
      ]
     },
     "metadata": {
      "needs_background": "light"
     },
     "output_type": "display_data"
    }
   ],
   "source": [
    "samples = generate_sample_group(10)\n",
    "visualize_samples(samples)"
   ]
  },
  {
   "cell_type": "code",
   "execution_count": 15,
   "id": "82c6c955",
   "metadata": {},
   "outputs": [
    {
     "name": "stdout",
     "output_type": "stream",
     "text": [
      "(10, 17, 2)\n",
      "(10, 194, 2)\n",
      "(10, 7, 2)\n",
      "(10, 35, 2)\n",
      "(10, 14, 2)\n",
      "(10, 7, 2)\n",
      "(10, 8, 2)\n",
      "(10, 23, 2)\n",
      "(10, 5, 2)\n",
      "(10, 48, 2)\n",
      "(10, 19, 2)\n",
      "(10, 31, 2)\n",
      "(10, 65, 2)\n",
      "(10, 22, 2)\n",
      "(10, 6, 2)\n",
      "(10, 62, 2)\n",
      "(10, 21, 2)\n",
      "(10, 23, 2)\n",
      "(10, 12, 2)\n",
      "(10, 6, 2)\n",
      "(10, 36, 2)\n",
      "(10, 10, 2)\n",
      "(10, 32, 2)\n",
      "(10, 46, 2)\n",
      "(10, 83, 2)\n",
      "(10, 31, 2)\n",
      "(10, 18, 2)\n",
      "(10, 32, 2)\n",
      "(10, 13, 2)\n",
      "(10, 33, 2)\n",
      "(10, 5, 2)\n",
      "(10, 47, 2)\n",
      "(10, 4, 2)\n",
      "(10, 74, 2)\n",
      "(10, 208, 2)\n",
      "(10, 34, 2)\n",
      "(10, 58, 2)\n",
      "(10, 44, 2)\n",
      "(10, 23, 2)\n",
      "(10, 28, 2)\n",
      "(10, 6, 2)\n",
      "(10, 10, 2)\n",
      "(10, 50, 2)\n",
      "(10, 2, 2)\n",
      "(10, 1, 2)\n",
      "(10, 26, 2)\n",
      "(10, 21, 2)\n",
      "(10, 27, 2)\n",
      "(10, 6, 2)\n",
      "(10, 5, 2)\n",
      "(10, 78, 2)\n",
      "(10, 11, 2)\n",
      "(10, 14, 2)\n",
      "(10, 8, 2)\n",
      "(10, 28, 2)\n",
      "(10, 7, 2)\n",
      "(10, 3, 2)\n",
      "(10, 5, 2)\n",
      "(10, 17, 2)\n",
      "(10, 18, 2)\n",
      "(10, 77, 2)\n",
      "(10, 9, 2)\n",
      "(10, 9, 2)\n",
      "(10, 144, 2)\n",
      "(10, 9, 2)\n",
      "(10, 12, 2)\n",
      "(10, 35, 2)\n",
      "(10, 69, 2)\n",
      "(10, 5, 2)\n",
      "(10, 22, 2)\n",
      "(10, 2, 2)\n",
      "(10, 13, 2)\n",
      "(10, 6, 2)\n",
      "(10, 21, 2)\n",
      "(10, 3, 2)\n",
      "(10, 33, 2)\n",
      "(10, 15, 2)\n",
      "(10, 18, 2)\n",
      "(10, 1, 2)\n",
      "(10, 40, 2)\n",
      "(10, 28, 2)\n",
      "(10, 14, 2)\n",
      "(10, 70, 2)\n",
      "(10, 1, 2)\n",
      "(10, 11, 2)\n",
      "(10, 90, 2)\n",
      "(10, 11, 2)\n",
      "(10, 6, 2)\n",
      "(10, 21, 2)\n",
      "(10, 120, 2)\n",
      "(10, 19, 2)\n",
      "(10, 5, 2)\n",
      "(10, 4, 2)\n",
      "(10, 67, 2)\n",
      "(10, 9, 2)\n",
      "(10, 15, 2)\n",
      "(10, 22, 2)\n",
      "(10, 8, 2)\n",
      "(10, 11, 2)\n",
      "(10, 40, 2)\n"
     ]
    },
    {
     "data": {
      "text/plain": [
       "(100, 1000)"
      ]
     },
     "execution_count": 15,
     "metadata": {},
     "output_type": "execute_result"
    }
   ],
   "source": [
    "def generate_all_samples(ngroups=100, nsamples_in_group=10, **kwargs):\n",
    "    \"\"\"Generates samples for multiple test groups.\n",
    "    \n",
    "    Returns\n",
    "    -------\n",
    "    X : `ngroup` size list of arrays: (nsamples_in_group, random_num_nonzero, 2)\n",
    "    y : `ngroup`*`nsamples_in_group` size list of strings\n",
    "    \"\"\"\n",
    "    X = []\n",
    "    y = []\n",
    "    for group_i in range(ngroups):\n",
    "        samples = generate_sample_group(nsamples_in_group, **kwargs)\n",
    "        n_samples, _, _ = samples.shape\n",
    "        reshape_samples = np.reshape(samples, (nsamples_in_group, n_samples, 2))\n",
    "        #visualize_samples(samples)\n",
    "        print(reshape_samples.shape)\n",
    "        X.append(reshape_samples)\n",
    "        y.extend([f\"group_{group_i}\"]*nsamples_in_group)\n",
    "    return X, y\n",
    "\n",
    "X, y = generate_all_samples()\n",
    "len(X), len(y)"
   ]
  },
  {
   "cell_type": "markdown",
   "id": "e3c7a12b",
   "metadata": {},
   "source": [
    "### Concern: This procedure can generate negative intensities since it samples a gaussian on the intensity location. For now, we make the negative value zero."
   ]
  }
 ],
 "metadata": {
  "kernelspec": {
   "display_name": "Python 3",
   "language": "python",
   "name": "python3"
  },
  "language_info": {
   "codemirror_mode": {
    "name": "ipython",
    "version": 3
   },
   "file_extension": ".py",
   "mimetype": "text/x-python",
   "name": "python",
   "nbconvert_exporter": "python",
   "pygments_lexer": "ipython3",
   "version": "3.8.5"
  }
 },
 "nbformat": 4,
 "nbformat_minor": 5
}
