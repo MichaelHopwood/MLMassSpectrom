{
 "cells": [
  {
   "cell_type": "markdown",
   "metadata": {},
   "source": [
    "# Visualize real data\n",
    "\n",
    "Get to know the real data"
   ]
  },
  {
   "cell_type": "code",
   "execution_count": 1,
   "metadata": {},
   "outputs": [
    {
     "name": "stderr",
     "output_type": "stream",
     "text": [
      "E:\\Users\\MichaelHopwood\\miniconda3\\lib\\site-packages\\numpy\\_distributor_init.py:30: UserWarning: loaded more than 1 DLL from .libs:\n",
      "E:\\Users\\MichaelHopwood\\miniconda3\\lib\\site-packages\\numpy\\.libs\\libopenblas.EL2C6PLE4ZYW3ECEVIV3OXXGRN2NRFM2.gfortran-win_amd64.dll\n",
      "E:\\Users\\MichaelHopwood\\miniconda3\\lib\\site-packages\\numpy\\.libs\\libopenblas.NOIJJG62EMASZI6NYURL6JBKM4EVBGM7.gfortran-win_amd64.dll\n",
      "  warnings.warn(\"loaded more than 1 DLL from .libs:\\n%s\" %\n"
     ]
    }
   ],
   "source": [
    "import pandas as pd\n",
    "import os\n",
    "import numpy as np\n",
    "import matplotlib.pyplot as plt\n",
    "import seaborn as sns"
   ]
  },
  {
   "cell_type": "code",
   "execution_count": 2,
   "metadata": {},
   "outputs": [
    {
     "data": {
      "text/html": [
       "<div>\n",
       "<style scoped>\n",
       "    .dataframe tbody tr th:only-of-type {\n",
       "        vertical-align: middle;\n",
       "    }\n",
       "\n",
       "    .dataframe tbody tr th {\n",
       "        vertical-align: top;\n",
       "    }\n",
       "\n",
       "    .dataframe thead th {\n",
       "        text-align: right;\n",
       "    }\n",
       "</style>\n",
       "<table border=\"1\" class=\"dataframe\">\n",
       "  <thead>\n",
       "    <tr style=\"text-align: right;\">\n",
       "      <th></th>\n",
       "      <th>Sample</th>\n",
       "      <th>Class</th>\n",
       "      <th>Sample Types</th>\n",
       "      <th>SRN</th>\n",
       "      <th>59.00498</th>\n",
       "      <th>72.00792</th>\n",
       "      <th>74.00967</th>\n",
       "      <th>75.00427</th>\n",
       "      <th>77.00585</th>\n",
       "      <th>77.00646</th>\n",
       "      <th>...</th>\n",
       "      <th>534.22864</th>\n",
       "      <th>545.23129</th>\n",
       "      <th>548.2292</th>\n",
       "      <th>564.22822</th>\n",
       "      <th>578.23102</th>\n",
       "      <th>589.23387</th>\n",
       "      <th>592.23132</th>\n",
       "      <th>608.23108</th>\n",
       "      <th>622.23371</th>\n",
       "      <th>636.23384</th>\n",
       "    </tr>\n",
       "  </thead>\n",
       "  <tbody>\n",
       "    <tr>\n",
       "      <th>0</th>\n",
       "      <td>1</td>\n",
       "      <td>c1</td>\n",
       "      <td>Model</td>\n",
       "      <td>SRN00001_DART_NHM_1</td>\n",
       "      <td>0.0</td>\n",
       "      <td>0.0</td>\n",
       "      <td>0.0</td>\n",
       "      <td>0.00</td>\n",
       "      <td>0</td>\n",
       "      <td>0.0</td>\n",
       "      <td>...</td>\n",
       "      <td>0.0</td>\n",
       "      <td>0.0</td>\n",
       "      <td>0.0</td>\n",
       "      <td>0.0</td>\n",
       "      <td>0.0</td>\n",
       "      <td>0.0</td>\n",
       "      <td>0.0</td>\n",
       "      <td>0.0</td>\n",
       "      <td>0.0</td>\n",
       "      <td>0.0</td>\n",
       "    </tr>\n",
       "    <tr>\n",
       "      <th>1</th>\n",
       "      <td>2</td>\n",
       "      <td>c1</td>\n",
       "      <td>Model</td>\n",
       "      <td>SRN00001_DART_NHM_2</td>\n",
       "      <td>0.0</td>\n",
       "      <td>0.0</td>\n",
       "      <td>0.0</td>\n",
       "      <td>0.00</td>\n",
       "      <td>0</td>\n",
       "      <td>0.0</td>\n",
       "      <td>...</td>\n",
       "      <td>0.0</td>\n",
       "      <td>0.0</td>\n",
       "      <td>0.0</td>\n",
       "      <td>0.0</td>\n",
       "      <td>0.0</td>\n",
       "      <td>0.0</td>\n",
       "      <td>0.0</td>\n",
       "      <td>0.0</td>\n",
       "      <td>0.0</td>\n",
       "      <td>0.0</td>\n",
       "    </tr>\n",
       "    <tr>\n",
       "      <th>2</th>\n",
       "      <td>3</td>\n",
       "      <td>c1</td>\n",
       "      <td>Model</td>\n",
       "      <td>SRN00001_DART_NHM_3</td>\n",
       "      <td>0.0</td>\n",
       "      <td>0.0</td>\n",
       "      <td>0.0</td>\n",
       "      <td>0.00</td>\n",
       "      <td>0</td>\n",
       "      <td>0.0</td>\n",
       "      <td>...</td>\n",
       "      <td>0.0</td>\n",
       "      <td>0.0</td>\n",
       "      <td>0.0</td>\n",
       "      <td>0.0</td>\n",
       "      <td>0.0</td>\n",
       "      <td>0.0</td>\n",
       "      <td>0.0</td>\n",
       "      <td>0.0</td>\n",
       "      <td>0.0</td>\n",
       "      <td>0.0</td>\n",
       "    </tr>\n",
       "    <tr>\n",
       "      <th>3</th>\n",
       "      <td>4</td>\n",
       "      <td>c2</td>\n",
       "      <td>Model</td>\n",
       "      <td>SRN00002_DART_NHM_1</td>\n",
       "      <td>0.0</td>\n",
       "      <td>0.0</td>\n",
       "      <td>0.0</td>\n",
       "      <td>0.00</td>\n",
       "      <td>0</td>\n",
       "      <td>0.0</td>\n",
       "      <td>...</td>\n",
       "      <td>0.0</td>\n",
       "      <td>0.0</td>\n",
       "      <td>0.0</td>\n",
       "      <td>0.0</td>\n",
       "      <td>0.0</td>\n",
       "      <td>0.0</td>\n",
       "      <td>0.0</td>\n",
       "      <td>0.0</td>\n",
       "      <td>0.0</td>\n",
       "      <td>0.0</td>\n",
       "    </tr>\n",
       "    <tr>\n",
       "      <th>4</th>\n",
       "      <td>5</td>\n",
       "      <td>c2</td>\n",
       "      <td>Model</td>\n",
       "      <td>SRN00002_DART_NHM_2</td>\n",
       "      <td>0.0</td>\n",
       "      <td>0.0</td>\n",
       "      <td>0.0</td>\n",
       "      <td>5.83</td>\n",
       "      <td>0</td>\n",
       "      <td>0.0</td>\n",
       "      <td>...</td>\n",
       "      <td>0.0</td>\n",
       "      <td>0.0</td>\n",
       "      <td>0.0</td>\n",
       "      <td>0.0</td>\n",
       "      <td>0.0</td>\n",
       "      <td>0.0</td>\n",
       "      <td>0.0</td>\n",
       "      <td>0.0</td>\n",
       "      <td>0.0</td>\n",
       "      <td>0.0</td>\n",
       "    </tr>\n",
       "  </tbody>\n",
       "</table>\n",
       "<p>5 rows × 1125 columns</p>\n",
       "</div>"
      ],
      "text/plain": [
       "   Sample Class Sample Types                  SRN  59.00498  72.00792  \\\n",
       "0       1    c1        Model  SRN00001_DART_NHM_1       0.0       0.0   \n",
       "1       2    c1        Model  SRN00001_DART_NHM_2       0.0       0.0   \n",
       "2       3    c1        Model  SRN00001_DART_NHM_3       0.0       0.0   \n",
       "3       4    c2        Model  SRN00002_DART_NHM_1       0.0       0.0   \n",
       "4       5    c2        Model  SRN00002_DART_NHM_2       0.0       0.0   \n",
       "\n",
       "   74.00967  75.00427  77.00585  77.00646  ...  534.22864  545.23129  \\\n",
       "0       0.0      0.00         0       0.0  ...        0.0        0.0   \n",
       "1       0.0      0.00         0       0.0  ...        0.0        0.0   \n",
       "2       0.0      0.00         0       0.0  ...        0.0        0.0   \n",
       "3       0.0      0.00         0       0.0  ...        0.0        0.0   \n",
       "4       0.0      5.83         0       0.0  ...        0.0        0.0   \n",
       "\n",
       "   548.2292  564.22822  578.23102  589.23387  592.23132  608.23108  622.23371  \\\n",
       "0       0.0        0.0        0.0        0.0        0.0        0.0        0.0   \n",
       "1       0.0        0.0        0.0        0.0        0.0        0.0        0.0   \n",
       "2       0.0        0.0        0.0        0.0        0.0        0.0        0.0   \n",
       "3       0.0        0.0        0.0        0.0        0.0        0.0        0.0   \n",
       "4       0.0        0.0        0.0        0.0        0.0        0.0        0.0   \n",
       "\n",
       "   636.23384  \n",
       "0        0.0  \n",
       "1        0.0  \n",
       "2        0.0  \n",
       "3        0.0  \n",
       "4        0.0  \n",
       "\n",
       "[5 rows x 1125 columns]"
      ]
     },
     "execution_count": 2,
     "metadata": {},
     "output_type": "execute_result"
    }
   ],
   "source": [
    "savefolder = 'figures_real_data'\n",
    "folder = 'data'\n",
    "df = pd.read_excel(os.path.join(folder, '20211128 - Full DART Data (Model & Test).xlsx'), header=2)\n",
    "df.head()"
   ]
  },
  {
   "cell_type": "code",
   "execution_count": 4,
   "metadata": {},
   "outputs": [],
   "source": [
    "import pylab\n",
    "\n",
    "labeled_df = df[df['Sample Types'] == 'Model']\n",
    "recol = [(float('.'.join(col.split('.')[:2])) if isinstance(col, str) else col) for col in df.columns[4:]]\n",
    "\n",
    "unique_classes = labeled_df['Class'].unique()\n",
    "\n",
    "NUM_COLORS = len(unique_classes)\n",
    "cm = pylab.get_cmap('gist_rainbow')\n",
    "cgen = (cm(1.*i/NUM_COLORS) for i in range(NUM_COLORS))\n",
    "\n",
    "for label in unique_classes:\n",
    "    plt.figure(figsize=(12,8))\n",
    "    mask = labeled_df['Class'] == label\n",
    "    color = next(cgen)\n",
    "    for ind, row in labeled_df.loc[mask, :].iterrows():\n",
    "        data = row[df.columns[4:]].values\n",
    "        data[data<25] = 0\n",
    "        plt.plot(recol, data, color=color)\n",
    "        plt.ylabel('%')\n",
    "        plt.xlabel('Mass')\n",
    "        plt.savefig(os.path.join(savefolder, f'sample_class_{label}_ind_{ind}.png'))\n",
    "        #plt.show()\n",
    "        plt.close()"
   ]
  },
  {
   "cell_type": "code",
   "execution_count": null,
   "metadata": {},
   "outputs": [],
   "source": [
    "# Rename numerical columns\n",
    "\n",
    "recol = [(float('.'.join(col.split('.')[:2])) if isinstance(col, str) else col) for col in df.columns[4:]]\n",
    "plt.plot(recol)"
   ]
  },
  {
   "cell_type": "code",
   "execution_count": null,
   "metadata": {},
   "outputs": [],
   "source": [
    "recol"
   ]
  },
  {
   "cell_type": "markdown",
   "metadata": {},
   "source": [
    "It appears there are more than 3 measurement iterations? Why?"
   ]
  },
  {
   "cell_type": "code",
   "execution_count": null,
   "metadata": {},
   "outputs": [],
   "source": [
    "Xcols = [f'Col{i}' for i in range(len(recol))]\n",
    "df.columns = list(df.columns[:4]) + Xcols\n",
    "df.head(n=10)"
   ]
  },
  {
   "cell_type": "code",
   "execution_count": null,
   "metadata": {},
   "outputs": [],
   "source": [
    "df[df.columns[4:]].iloc[0:3]"
   ]
  },
  {
   "cell_type": "markdown",
   "metadata": {},
   "source": [
    "## Data formatting"
   ]
  },
  {
   "cell_type": "code",
   "execution_count": null,
   "metadata": {},
   "outputs": [],
   "source": [
    "def build_data_structure(df, labels, column_name_mass_locations):\n",
    "    \"\"\"\n",
    "    Convert dataframe which has columns of the mass locations and values of the intensities\n",
    "    to array format where the sample is a list of peaks and the samples are grouped by the number of peaks.\n",
    "\n",
    "    Input:\n",
    "    df: dataframe with columns of the mass locations and values of the intensities\n",
    "    \tCol0  Col1  Col2 ...\n",
    "    0\t0.0\t  0.0\t0.0\n",
    "\n",
    "    column_name_mass_locations: column names of the mass locations\n",
    "    [59.00498,\n",
    "     72.00792,\n",
    "     74.00967,\n",
    "     ...\n",
    "    ]\n",
    "\n",
    "    We split it up just in case duplicate mass locations are present since multiple scans can be represented.\n",
    "\n",
    "    Output:\n",
    "    [ [samples with smallest number of peaks],\n",
    "      [samples with 2nd smallest number peaks], \n",
    "      ...,\n",
    "      [samples with largest number of peaks]\n",
    "    ]\n",
    "\n",
    "    where each sample is an array of lists (mass, intensity):\n",
    "    array([[peak_location1, peak_intensity1], [peak_location2, peak_intensity2], ...])\n",
    "    \"\"\"\n",
    "    df = df.copy()\n",
    "    # Get nonzero values (aka \"peaks\")\n",
    "    data = df.apply(lambda x: np.asarray([[column_name_mass_locations[i], val] for i, (val, b) in enumerate(zip(x, x.gt(0))) if b]), axis=1)    \n",
    "\n",
    "    X = []\n",
    "    Y = []\n",
    "    # Group so we have groups of the same number of peaks\n",
    "    lengths = np.array([len(x) for x in data])\n",
    "    unique_lengths = np.unique(lengths)\n",
    "    for length in unique_lengths:\n",
    "        mask_length = lengths == length\n",
    "        mask_idx = np.where(mask_length)\n",
    "        y = labels[mask_idx]\n",
    "        x = np.stack(data.loc[mask_length].values.tolist())\n",
    "        X.append(x)\n",
    "        Y.append(y)\n",
    "    return X, Y\n",
    "\n",
    "labeled_df = df[df['Sample Types'] == 'Model']\n",
    "from sklearn import preprocessing\n",
    "lb = preprocessing.LabelBinarizer()\n",
    "lb.fit(labeled_df['Class'].unique())\n",
    "X, Y = build_data_structure(labeled_df[labeled_df.columns[4:]], labeled_df['Class'].values, recol)\n",
    "y = [lb.transform(y) for y in Y]\n",
    "len(X), X[0].shape, len(y), y[0].shape"
   ]
  },
  {
   "cell_type": "markdown",
   "metadata": {},
   "source": [
    "## Investigate test-train partition"
   ]
  },
  {
   "cell_type": "code",
   "execution_count": null,
   "metadata": {},
   "outputs": [],
   "source": [
    "df['Sample Types'].value_counts()"
   ]
  },
  {
   "cell_type": "code",
   "execution_count": null,
   "metadata": {},
   "outputs": [],
   "source": [
    "df['Class'].value_counts()"
   ]
  },
  {
   "cell_type": "code",
   "execution_count": null,
   "metadata": {},
   "outputs": [],
   "source": [
    "df[df['Sample Types'] == 'Model']['Class'].value_counts()"
   ]
  },
  {
   "cell_type": "code",
   "execution_count": null,
   "metadata": {},
   "outputs": [],
   "source": [
    "df[df['Sample Types'] == 'Test']['Class'].value_counts()"
   ]
  },
  {
   "cell_type": "markdown",
   "metadata": {},
   "source": [
    "## Seeing no labels in the Test split, we must split the train for a supervised evaluation"
   ]
  },
  {
   "cell_type": "code",
   "execution_count": null,
   "metadata": {},
   "outputs": [],
   "source": [
    "labeled_df = df[df['Sample Types'] == 'Model']\n",
    "\n",
    "X = build_data_structure(df[df.columns[4:]])\n",
    "\n",
    "from sklearn import model_selection\n",
    "from sklearn import preprocessing\n",
    "lb = preprocessing.LabelBinarizer()\n",
    "lb.fit(labeled_df['Class'])\n",
    "\n",
    "train_labeled_df, test_labeled_df = model_selection.train_test_split(labeled_df, train_size=None, shuffle=True, stratify=labeled_df['Class'])\n",
    "\n",
    "X_train = build_data_structure(train_labeled_df[train_labeled_df.columns[4:]])\n",
    "X_test = build_data_structure(test_labeled_df[test_labeled_df.columns[4:]])\n",
    "\n",
    "y_train = lb.transform(train_labeled_df['Class'])\n",
    "y_test = lb.transform(test_labeled_df['Class'])"
   ]
  },
  {
   "cell_type": "code",
   "execution_count": null,
   "metadata": {},
   "outputs": [],
   "source": [
    "print(len(X_train), len(X_test))\n",
    "\n",
    "print(X_train[12][0].shape, y_train[0].shape, X_test[12][0].shape, y_test[0].shape)"
   ]
  },
  {
   "cell_type": "code",
   "execution_count": null,
   "metadata": {},
   "outputs": [],
   "source": [
    "from core import RealDataGenerator\n",
    "\n",
    "gen = RealDataGenerator(\n",
    "    X_train, y_train,\n",
    "    X_test, y_test,\n",
    "    X_test, y_test\n",
    ")\n",
    "\n"
   ]
  }
 ],
 "metadata": {
  "interpreter": {
   "hash": "7c28e26739430500fec97d508cbac2e5d4a112deb445b412c4e69aa96f605479"
  },
  "kernelspec": {
   "display_name": "Python 3.6.8 64-bit",
   "language": "python",
   "name": "python3"
  },
  "language_info": {
   "codemirror_mode": {
    "name": "ipython",
    "version": 3
   },
   "file_extension": ".py",
   "mimetype": "text/x-python",
   "name": "python",
   "nbconvert_exporter": "python",
   "pygments_lexer": "ipython3",
   "version": "3.8.5"
  },
  "orig_nbformat": 4
 },
 "nbformat": 4,
 "nbformat_minor": 2
}
